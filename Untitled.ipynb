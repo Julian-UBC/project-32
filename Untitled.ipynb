{
 "cells": [
  {
   "cell_type": "markdown",
   "id": "3c143d67-cda8-4227-96c9-33eeb0037263",
   "metadata": {},
   "source": [
    "# TITLE"
   ]
  },
  {
   "cell_type": "markdown",
   "id": "02793ef7-75e0-45fa-9451-0ff5bf32009b",
   "metadata": {},
   "source": [
    "#### names\n"
   ]
  },
  {
   "cell_type": "markdown",
   "id": "ebe7087e-07da-4a32-95fd-8f6e9ca49a5e",
   "metadata": {},
   "source": [
    "## Introduction"
   ]
  },
  {
   "cell_type": "markdown",
   "id": "0f4a7d86-0f6b-4bc7-8f18-b8222af9c8f6",
   "metadata": {},
   "source": [
    "## Preliminary Results"
   ]
  },
  {
   "cell_type": "code",
   "execution_count": 2,
   "id": "a4568439-ad63-4d84-bf3d-f05aa75d3d76",
   "metadata": {},
   "outputs": [
    {
     "name": "stderr",
     "output_type": "stream",
     "text": [
      "\n",
      "Attaching package: ‘dplyr’\n",
      "\n",
      "\n",
      "The following objects are masked from ‘package:stats’:\n",
      "\n",
      "    filter, lag\n",
      "\n",
      "\n",
      "The following objects are masked from ‘package:base’:\n",
      "\n",
      "    intersect, setdiff, setequal, union\n",
      "\n",
      "\n"
     ]
    }
   ],
   "source": [
    "library('dplyr')\n",
    "library(\"stringr\")"
   ]
  },
  {
   "cell_type": "markdown",
   "id": "a9bdd88f-e831-4c89-9abe-50f3aa51ed3f",
   "metadata": {},
   "source": [
    "We have downloaded the dataset from [UC Irvine Machine Learning Repository](https://archive.ics.uci.edu/dataset/2/adult) to the data folder. Now we want to read the data from the dataset and import it into a dataframe."
   ]
  },
  {
   "cell_type": "code",
   "execution_count": 3,
   "id": "ce11b897-e98f-4609-b02b-3d82e71af001",
   "metadata": {},
   "outputs": [
    {
     "data": {
      "text/html": [
       "<table class=\"dataframe\">\n",
       "<caption>A data.frame: 6 × 15</caption>\n",
       "<thead>\n",
       "\t<tr><th></th><th scope=col>age</th><th scope=col>workclass</th><th scope=col>fnlwgt</th><th scope=col>education</th><th scope=col>education_num</th><th scope=col>marital_status</th><th scope=col>occupation</th><th scope=col>relationship</th><th scope=col>race</th><th scope=col>sex</th><th scope=col>capital_gain</th><th scope=col>capital_loss</th><th scope=col>hours_per_week</th><th scope=col>native_country</th><th scope=col>class</th></tr>\n",
       "\t<tr><th></th><th scope=col>&lt;chr&gt;</th><th scope=col>&lt;chr&gt;</th><th scope=col>&lt;chr&gt;</th><th scope=col>&lt;chr&gt;</th><th scope=col>&lt;chr&gt;</th><th scope=col>&lt;chr&gt;</th><th scope=col>&lt;chr&gt;</th><th scope=col>&lt;chr&gt;</th><th scope=col>&lt;chr&gt;</th><th scope=col>&lt;chr&gt;</th><th scope=col>&lt;chr&gt;</th><th scope=col>&lt;chr&gt;</th><th scope=col>&lt;chr&gt;</th><th scope=col>&lt;chr&gt;</th><th scope=col>&lt;chr&gt;</th></tr>\n",
       "</thead>\n",
       "<tbody>\n",
       "\t<tr><th scope=row>1</th><td>39</td><td><span style=white-space:pre-wrap>State-gov       </span></td><td>77516 </td><td>Bachelors</td><td>13</td><td><span style=white-space:pre-wrap>Never-married     </span></td><td><span style=white-space:pre-wrap>Adm-clerical     </span></td><td>Not-in-family</td><td>White</td><td><span style=white-space:pre-wrap>Male  </span></td><td>2174</td><td>0</td><td>40</td><td>United-States</td><td>&lt;=50K</td></tr>\n",
       "\t<tr><th scope=row>2</th><td>50</td><td>Self-emp-not-inc</td><td>83311 </td><td>Bachelors</td><td>13</td><td>Married-civ-spouse</td><td><span style=white-space:pre-wrap>Exec-managerial  </span></td><td><span style=white-space:pre-wrap>Husband      </span></td><td>White</td><td><span style=white-space:pre-wrap>Male  </span></td><td><span style=white-space:pre-wrap>0   </span></td><td>0</td><td>13</td><td>United-States</td><td>&lt;=50K</td></tr>\n",
       "\t<tr><th scope=row>3</th><td>38</td><td><span style=white-space:pre-wrap>Private         </span></td><td>215646</td><td><span style=white-space:pre-wrap>HS-grad  </span></td><td>9 </td><td><span style=white-space:pre-wrap>Divorced          </span></td><td>Handlers-cleaners</td><td>Not-in-family</td><td>White</td><td><span style=white-space:pre-wrap>Male  </span></td><td><span style=white-space:pre-wrap>0   </span></td><td>0</td><td>40</td><td>United-States</td><td>&lt;=50K</td></tr>\n",
       "\t<tr><th scope=row>4</th><td>53</td><td><span style=white-space:pre-wrap>Private         </span></td><td>234721</td><td><span style=white-space:pre-wrap>11th     </span></td><td>7 </td><td>Married-civ-spouse</td><td>Handlers-cleaners</td><td><span style=white-space:pre-wrap>Husband      </span></td><td>Black</td><td><span style=white-space:pre-wrap>Male  </span></td><td><span style=white-space:pre-wrap>0   </span></td><td>0</td><td>40</td><td>United-States</td><td>&lt;=50K</td></tr>\n",
       "\t<tr><th scope=row>5</th><td>28</td><td><span style=white-space:pre-wrap>Private         </span></td><td>338409</td><td>Bachelors</td><td>13</td><td>Married-civ-spouse</td><td><span style=white-space:pre-wrap>Prof-specialty   </span></td><td><span style=white-space:pre-wrap>Wife         </span></td><td>Black</td><td>Female</td><td><span style=white-space:pre-wrap>0   </span></td><td>0</td><td>40</td><td><span style=white-space:pre-wrap>Cuba         </span></td><td>&lt;=50K</td></tr>\n",
       "\t<tr><th scope=row>6</th><td>37</td><td><span style=white-space:pre-wrap>Private         </span></td><td>284582</td><td><span style=white-space:pre-wrap>Masters  </span></td><td>14</td><td>Married-civ-spouse</td><td><span style=white-space:pre-wrap>Exec-managerial  </span></td><td><span style=white-space:pre-wrap>Wife         </span></td><td>White</td><td>Female</td><td><span style=white-space:pre-wrap>0   </span></td><td>0</td><td>40</td><td>United-States</td><td>&lt;=50K</td></tr>\n",
       "</tbody>\n",
       "</table>\n"
      ],
      "text/latex": [
       "A data.frame: 6 × 15\n",
       "\\begin{tabular}{r|lllllllllllllll}\n",
       "  & age & workclass & fnlwgt & education & education\\_num & marital\\_status & occupation & relationship & race & sex & capital\\_gain & capital\\_loss & hours\\_per\\_week & native\\_country & class\\\\\n",
       "  & <chr> & <chr> & <chr> & <chr> & <chr> & <chr> & <chr> & <chr> & <chr> & <chr> & <chr> & <chr> & <chr> & <chr> & <chr>\\\\\n",
       "\\hline\n",
       "\t1 & 39 & State-gov        & 77516  & Bachelors & 13 & Never-married      & Adm-clerical      & Not-in-family & White & Male   & 2174 & 0 & 40 & United-States & <=50K\\\\\n",
       "\t2 & 50 & Self-emp-not-inc & 83311  & Bachelors & 13 & Married-civ-spouse & Exec-managerial   & Husband       & White & Male   & 0    & 0 & 13 & United-States & <=50K\\\\\n",
       "\t3 & 38 & Private          & 215646 & HS-grad   & 9  & Divorced           & Handlers-cleaners & Not-in-family & White & Male   & 0    & 0 & 40 & United-States & <=50K\\\\\n",
       "\t4 & 53 & Private          & 234721 & 11th      & 7  & Married-civ-spouse & Handlers-cleaners & Husband       & Black & Male   & 0    & 0 & 40 & United-States & <=50K\\\\\n",
       "\t5 & 28 & Private          & 338409 & Bachelors & 13 & Married-civ-spouse & Prof-specialty    & Wife          & Black & Female & 0    & 0 & 40 & Cuba          & <=50K\\\\\n",
       "\t6 & 37 & Private          & 284582 & Masters   & 14 & Married-civ-spouse & Exec-managerial   & Wife          & White & Female & 0    & 0 & 40 & United-States & <=50K\\\\\n",
       "\\end{tabular}\n"
      ],
      "text/markdown": [
       "\n",
       "A data.frame: 6 × 15\n",
       "\n",
       "| <!--/--> | age &lt;chr&gt; | workclass &lt;chr&gt; | fnlwgt &lt;chr&gt; | education &lt;chr&gt; | education_num &lt;chr&gt; | marital_status &lt;chr&gt; | occupation &lt;chr&gt; | relationship &lt;chr&gt; | race &lt;chr&gt; | sex &lt;chr&gt; | capital_gain &lt;chr&gt; | capital_loss &lt;chr&gt; | hours_per_week &lt;chr&gt; | native_country &lt;chr&gt; | class &lt;chr&gt; |\n",
       "|---|---|---|---|---|---|---|---|---|---|---|---|---|---|---|---|\n",
       "| 1 | 39 | State-gov        | 77516  | Bachelors | 13 | Never-married      | Adm-clerical      | Not-in-family | White | Male   | 2174 | 0 | 40 | United-States | &lt;=50K |\n",
       "| 2 | 50 | Self-emp-not-inc | 83311  | Bachelors | 13 | Married-civ-spouse | Exec-managerial   | Husband       | White | Male   | 0    | 0 | 13 | United-States | &lt;=50K |\n",
       "| 3 | 38 | Private          | 215646 | HS-grad   | 9  | Divorced           | Handlers-cleaners | Not-in-family | White | Male   | 0    | 0 | 40 | United-States | &lt;=50K |\n",
       "| 4 | 53 | Private          | 234721 | 11th      | 7  | Married-civ-spouse | Handlers-cleaners | Husband       | Black | Male   | 0    | 0 | 40 | United-States | &lt;=50K |\n",
       "| 5 | 28 | Private          | 338409 | Bachelors | 13 | Married-civ-spouse | Prof-specialty    | Wife          | Black | Female | 0    | 0 | 40 | Cuba          | &lt;=50K |\n",
       "| 6 | 37 | Private          | 284582 | Masters   | 14 | Married-civ-spouse | Exec-managerial   | Wife          | White | Female | 0    | 0 | 40 | United-States | &lt;=50K |\n",
       "\n"
      ],
      "text/plain": [
       "  age workclass        fnlwgt education education_num marital_status    \n",
       "1 39  State-gov        77516  Bachelors 13            Never-married     \n",
       "2 50  Self-emp-not-inc 83311  Bachelors 13            Married-civ-spouse\n",
       "3 38  Private          215646 HS-grad   9             Divorced          \n",
       "4 53  Private          234721 11th      7             Married-civ-spouse\n",
       "5 28  Private          338409 Bachelors 13            Married-civ-spouse\n",
       "6 37  Private          284582 Masters   14            Married-civ-spouse\n",
       "  occupation        relationship  race  sex    capital_gain capital_loss\n",
       "1 Adm-clerical      Not-in-family White Male   2174         0           \n",
       "2 Exec-managerial   Husband       White Male   0            0           \n",
       "3 Handlers-cleaners Not-in-family White Male   0            0           \n",
       "4 Handlers-cleaners Husband       Black Male   0            0           \n",
       "5 Prof-specialty    Wife          Black Female 0            0           \n",
       "6 Exec-managerial   Wife          White Female 0            0           \n",
       "  hours_per_week native_country class\n",
       "1 40             United-States  <=50K\n",
       "2 13             United-States  <=50K\n",
       "3 40             United-States  <=50K\n",
       "4 40             United-States  <=50K\n",
       "5 40             Cuba           <=50K\n",
       "6 40             United-States  <=50K"
      ]
     },
     "metadata": {},
     "output_type": "display_data"
    },
    {
     "data": {
      "text/html": [
       "32561"
      ],
      "text/latex": [
       "32561"
      ],
      "text/markdown": [
       "32561"
      ],
      "text/plain": [
       "[1] 32561"
      ]
     },
     "metadata": {},
     "output_type": "display_data"
    }
   ],
   "source": [
    "adult_data <- read.table(\"./data/adult.data\", header=FALSE, sep= \",\",\n",
    "                 col.names = c(\"age\", \"workclass\", \"fnlwgt\", \"education\", \"education_num\", \"marital_status\", \"occupation\", \"relationship\", \n",
    "                               \"race\", \"sex\", \"capital_gain\", \"capital_loss\", \"hours_per_week\", \"native_country\", \"class\"))\n",
    "\n",
    "adult_df <- as.data.frame(apply(adult_data, 2, str_remove_all, \" \"))\n",
    "\n",
    "head(adult_df)\n",
    "nrow(adult_df)"
   ]
  },
  {
   "cell_type": "markdown",
   "id": "54fb41eb-a6e9-40e2-b82a-55286998870a",
   "metadata": {},
   "source": [
    "We have successfully read the data from the dataset and store it in `adult_data`. We have also cleaned up and wrangled the data above. Now we want to filter out some information/data that we are not interested in."
   ]
  },
  {
   "cell_type": "code",
   "execution_count": 4,
   "id": "e5e425dd-26ce-4a76-9a5a-1209dbcc5117",
   "metadata": {},
   "outputs": [
    {
     "data": {
      "text/html": [
       "<table class=\"dataframe\">\n",
       "<caption>A data.frame: 6 × 16</caption>\n",
       "<thead>\n",
       "\t<tr><th></th><th scope=col>age</th><th scope=col>workclass</th><th scope=col>fnlwgt</th><th scope=col>education</th><th scope=col>education_num</th><th scope=col>marital_status</th><th scope=col>occupation</th><th scope=col>relationship</th><th scope=col>race</th><th scope=col>sex</th><th scope=col>capital_gain</th><th scope=col>capital_loss</th><th scope=col>hours_per_week</th><th scope=col>native_country</th><th scope=col>class</th><th scope=col>above_50_k</th></tr>\n",
       "\t<tr><th></th><th scope=col>&lt;chr&gt;</th><th scope=col>&lt;chr&gt;</th><th scope=col>&lt;chr&gt;</th><th scope=col>&lt;chr&gt;</th><th scope=col>&lt;chr&gt;</th><th scope=col>&lt;chr&gt;</th><th scope=col>&lt;chr&gt;</th><th scope=col>&lt;chr&gt;</th><th scope=col>&lt;chr&gt;</th><th scope=col>&lt;chr&gt;</th><th scope=col>&lt;chr&gt;</th><th scope=col>&lt;chr&gt;</th><th scope=col>&lt;chr&gt;</th><th scope=col>&lt;chr&gt;</th><th scope=col>&lt;chr&gt;</th><th scope=col>&lt;lgl&gt;</th></tr>\n",
       "</thead>\n",
       "<tbody>\n",
       "\t<tr><th scope=row>1</th><td>39</td><td><span style=white-space:pre-wrap>State-gov       </span></td><td>77516 </td><td>Bachelors</td><td>13</td><td><span style=white-space:pre-wrap>Never-married     </span></td><td><span style=white-space:pre-wrap>Adm-clerical     </span></td><td>Not-in-family</td><td>White</td><td><span style=white-space:pre-wrap>Male  </span></td><td>2174</td><td>0</td><td>40</td><td>United-States</td><td>&lt;=50K</td><td>FALSE</td></tr>\n",
       "\t<tr><th scope=row>2</th><td>50</td><td>Self-emp-not-inc</td><td>83311 </td><td>Bachelors</td><td>13</td><td>Married-civ-spouse</td><td><span style=white-space:pre-wrap>Exec-managerial  </span></td><td><span style=white-space:pre-wrap>Husband      </span></td><td>White</td><td><span style=white-space:pre-wrap>Male  </span></td><td><span style=white-space:pre-wrap>0   </span></td><td>0</td><td>13</td><td>United-States</td><td>&lt;=50K</td><td>FALSE</td></tr>\n",
       "\t<tr><th scope=row>3</th><td>38</td><td><span style=white-space:pre-wrap>Private         </span></td><td>215646</td><td><span style=white-space:pre-wrap>HS-grad  </span></td><td>9 </td><td><span style=white-space:pre-wrap>Divorced          </span></td><td>Handlers-cleaners</td><td>Not-in-family</td><td>White</td><td><span style=white-space:pre-wrap>Male  </span></td><td><span style=white-space:pre-wrap>0   </span></td><td>0</td><td>40</td><td>United-States</td><td>&lt;=50K</td><td>FALSE</td></tr>\n",
       "\t<tr><th scope=row>4</th><td>53</td><td><span style=white-space:pre-wrap>Private         </span></td><td>234721</td><td><span style=white-space:pre-wrap>11th     </span></td><td>7 </td><td>Married-civ-spouse</td><td>Handlers-cleaners</td><td><span style=white-space:pre-wrap>Husband      </span></td><td>Black</td><td><span style=white-space:pre-wrap>Male  </span></td><td><span style=white-space:pre-wrap>0   </span></td><td>0</td><td>40</td><td>United-States</td><td>&lt;=50K</td><td>FALSE</td></tr>\n",
       "\t<tr><th scope=row>5</th><td>28</td><td><span style=white-space:pre-wrap>Private         </span></td><td>338409</td><td>Bachelors</td><td>13</td><td>Married-civ-spouse</td><td><span style=white-space:pre-wrap>Prof-specialty   </span></td><td><span style=white-space:pre-wrap>Wife         </span></td><td>Black</td><td>Female</td><td><span style=white-space:pre-wrap>0   </span></td><td>0</td><td>40</td><td><span style=white-space:pre-wrap>Cuba         </span></td><td>&lt;=50K</td><td>FALSE</td></tr>\n",
       "\t<tr><th scope=row>6</th><td>37</td><td><span style=white-space:pre-wrap>Private         </span></td><td>284582</td><td><span style=white-space:pre-wrap>Masters  </span></td><td>14</td><td>Married-civ-spouse</td><td><span style=white-space:pre-wrap>Exec-managerial  </span></td><td><span style=white-space:pre-wrap>Wife         </span></td><td>White</td><td>Female</td><td><span style=white-space:pre-wrap>0   </span></td><td>0</td><td>40</td><td>United-States</td><td>&lt;=50K</td><td>FALSE</td></tr>\n",
       "</tbody>\n",
       "</table>\n"
      ],
      "text/latex": [
       "A data.frame: 6 × 16\n",
       "\\begin{tabular}{r|llllllllllllllll}\n",
       "  & age & workclass & fnlwgt & education & education\\_num & marital\\_status & occupation & relationship & race & sex & capital\\_gain & capital\\_loss & hours\\_per\\_week & native\\_country & class & above\\_50\\_k\\\\\n",
       "  & <chr> & <chr> & <chr> & <chr> & <chr> & <chr> & <chr> & <chr> & <chr> & <chr> & <chr> & <chr> & <chr> & <chr> & <chr> & <lgl>\\\\\n",
       "\\hline\n",
       "\t1 & 39 & State-gov        & 77516  & Bachelors & 13 & Never-married      & Adm-clerical      & Not-in-family & White & Male   & 2174 & 0 & 40 & United-States & <=50K & FALSE\\\\\n",
       "\t2 & 50 & Self-emp-not-inc & 83311  & Bachelors & 13 & Married-civ-spouse & Exec-managerial   & Husband       & White & Male   & 0    & 0 & 13 & United-States & <=50K & FALSE\\\\\n",
       "\t3 & 38 & Private          & 215646 & HS-grad   & 9  & Divorced           & Handlers-cleaners & Not-in-family & White & Male   & 0    & 0 & 40 & United-States & <=50K & FALSE\\\\\n",
       "\t4 & 53 & Private          & 234721 & 11th      & 7  & Married-civ-spouse & Handlers-cleaners & Husband       & Black & Male   & 0    & 0 & 40 & United-States & <=50K & FALSE\\\\\n",
       "\t5 & 28 & Private          & 338409 & Bachelors & 13 & Married-civ-spouse & Prof-specialty    & Wife          & Black & Female & 0    & 0 & 40 & Cuba          & <=50K & FALSE\\\\\n",
       "\t6 & 37 & Private          & 284582 & Masters   & 14 & Married-civ-spouse & Exec-managerial   & Wife          & White & Female & 0    & 0 & 40 & United-States & <=50K & FALSE\\\\\n",
       "\\end{tabular}\n"
      ],
      "text/markdown": [
       "\n",
       "A data.frame: 6 × 16\n",
       "\n",
       "| <!--/--> | age &lt;chr&gt; | workclass &lt;chr&gt; | fnlwgt &lt;chr&gt; | education &lt;chr&gt; | education_num &lt;chr&gt; | marital_status &lt;chr&gt; | occupation &lt;chr&gt; | relationship &lt;chr&gt; | race &lt;chr&gt; | sex &lt;chr&gt; | capital_gain &lt;chr&gt; | capital_loss &lt;chr&gt; | hours_per_week &lt;chr&gt; | native_country &lt;chr&gt; | class &lt;chr&gt; | above_50_k &lt;lgl&gt; |\n",
       "|---|---|---|---|---|---|---|---|---|---|---|---|---|---|---|---|---|\n",
       "| 1 | 39 | State-gov        | 77516  | Bachelors | 13 | Never-married      | Adm-clerical      | Not-in-family | White | Male   | 2174 | 0 | 40 | United-States | &lt;=50K | FALSE |\n",
       "| 2 | 50 | Self-emp-not-inc | 83311  | Bachelors | 13 | Married-civ-spouse | Exec-managerial   | Husband       | White | Male   | 0    | 0 | 13 | United-States | &lt;=50K | FALSE |\n",
       "| 3 | 38 | Private          | 215646 | HS-grad   | 9  | Divorced           | Handlers-cleaners | Not-in-family | White | Male   | 0    | 0 | 40 | United-States | &lt;=50K | FALSE |\n",
       "| 4 | 53 | Private          | 234721 | 11th      | 7  | Married-civ-spouse | Handlers-cleaners | Husband       | Black | Male   | 0    | 0 | 40 | United-States | &lt;=50K | FALSE |\n",
       "| 5 | 28 | Private          | 338409 | Bachelors | 13 | Married-civ-spouse | Prof-specialty    | Wife          | Black | Female | 0    | 0 | 40 | Cuba          | &lt;=50K | FALSE |\n",
       "| 6 | 37 | Private          | 284582 | Masters   | 14 | Married-civ-spouse | Exec-managerial   | Wife          | White | Female | 0    | 0 | 40 | United-States | &lt;=50K | FALSE |\n",
       "\n"
      ],
      "text/plain": [
       "  age workclass        fnlwgt education education_num marital_status    \n",
       "1 39  State-gov        77516  Bachelors 13            Never-married     \n",
       "2 50  Self-emp-not-inc 83311  Bachelors 13            Married-civ-spouse\n",
       "3 38  Private          215646 HS-grad   9             Divorced          \n",
       "4 53  Private          234721 11th      7             Married-civ-spouse\n",
       "5 28  Private          338409 Bachelors 13            Married-civ-spouse\n",
       "6 37  Private          284582 Masters   14            Married-civ-spouse\n",
       "  occupation        relationship  race  sex    capital_gain capital_loss\n",
       "1 Adm-clerical      Not-in-family White Male   2174         0           \n",
       "2 Exec-managerial   Husband       White Male   0            0           \n",
       "3 Handlers-cleaners Not-in-family White Male   0            0           \n",
       "4 Handlers-cleaners Husband       Black Male   0            0           \n",
       "5 Prof-specialty    Wife          Black Female 0            0           \n",
       "6 Exec-managerial   Wife          White Female 0            0           \n",
       "  hours_per_week native_country class above_50_k\n",
       "1 40             United-States  <=50K FALSE     \n",
       "2 13             United-States  <=50K FALSE     \n",
       "3 40             United-States  <=50K FALSE     \n",
       "4 40             United-States  <=50K FALSE     \n",
       "5 40             Cuba           <=50K FALSE     \n",
       "6 40             United-States  <=50K FALSE     "
      ]
     },
     "metadata": {},
     "output_type": "display_data"
    }
   ],
   "source": [
    "data <- adult_df %>%\n",
    "    filter(!education %in% c(\"Some-college\", \"Prof-school\", \"Assoc-acdm\", \"Assoc-voc\", \"Doctorate\")) %>%\n",
    "    mutate(above_50_k = (class == \">50K\"))\n",
    "\n",
    "head(data)"
   ]
  },
  {
   "cell_type": "code",
   "execution_count": null,
   "id": "0cca1cfa-2f8e-4311-8068-9866cf8743ab",
   "metadata": {},
   "outputs": [],
   "source": []
  }
 ],
 "metadata": {
  "kernelspec": {
   "display_name": "R",
   "language": "R",
   "name": "ir"
  },
  "language_info": {
   "codemirror_mode": "r",
   "file_extension": ".r",
   "mimetype": "text/x-r-source",
   "name": "R",
   "pygments_lexer": "r",
   "version": "4.1.3"
  }
 },
 "nbformat": 4,
 "nbformat_minor": 5
}
