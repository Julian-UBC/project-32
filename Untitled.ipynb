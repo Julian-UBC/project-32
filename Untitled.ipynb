{
 "cells": [
  {
   "cell_type": "markdown",
   "id": "3c143d67-cda8-4227-96c9-33eeb0037263",
   "metadata": {},
   "source": [
    "# TITLE"
   ]
  },
  {
   "cell_type": "markdown",
   "id": "02793ef7-75e0-45fa-9451-0ff5bf32009b",
   "metadata": {},
   "source": [
    "#### names\n"
   ]
  },
  {
   "cell_type": "markdown",
   "id": "ebe7087e-07da-4a32-95fd-8f6e9ca49a5e",
   "metadata": {},
   "source": [
    "## Introduction"
   ]
  },
  {
   "cell_type": "markdown",
   "id": "0f4a7d86-0f6b-4bc7-8f18-b8222af9c8f6",
   "metadata": {},
   "source": [
    "## Preliminary Results"
   ]
  },
  {
   "cell_type": "code",
   "execution_count": null,
   "id": "2289de01-0ed1-4a86-90c5-3658323d8850",
   "metadata": {},
   "outputs": [],
   "source": []
  }
 ],
 "metadata": {
  "kernelspec": {
   "display_name": "R",
   "language": "R",
   "name": "ir"
  },
  "language_info": {
   "codemirror_mode": "r",
   "file_extension": ".r",
   "mimetype": "text/x-r-source",
   "name": "R",
   "pygments_lexer": "r",
   "version": "4.1.3"
  }
 },
 "nbformat": 4,
 "nbformat_minor": 5
}
